{
 "cells": [
  {
   "cell_type": "code",
   "execution_count": 22,
   "id": "efcd3d72",
   "metadata": {},
   "outputs": [],
   "source": [
    "import tensorflow as tf\n",
    "import os\n",
    "import matplotlib.pyplot as plt"
   ]
  },
  {
   "cell_type": "code",
   "execution_count": 8,
   "id": "e99ef4b1",
   "metadata": {},
   "outputs": [
    {
     "name": "stdout",
     "output_type": "stream",
     "text": [
      "[]\n"
     ]
    }
   ],
   "source": [
    "# Limitting the memory growth of GPU\n",
    "gpus = tf.config.experimental.list_physical_devices('GPU')\n",
    "for gpu in gpus:\n",
    "    tf.config.experimetnal.set_memory_growth(gpu, True)"
   ]
  },
  {
   "cell_type": "code",
   "execution_count": 10,
   "id": "a29a0fa7",
   "metadata": {},
   "outputs": [
    {
     "name": "stderr",
     "output_type": "stream",
     "text": [
      "C:\\Users\\pokar\\AppData\\Local\\Temp\\ipykernel_18060\\1505331735.py:2: DeprecationWarning: 'imghdr' is deprecated and slated for removal in Python 3.13\n",
      "  import imghdr\n"
     ]
    }
   ],
   "source": [
    "import cv2 as cv\n",
    "import imghdr"
   ]
  },
  {
   "cell_type": "code",
   "execution_count": 11,
   "id": "a8743af0",
   "metadata": {},
   "outputs": [],
   "source": [
    "data_dir = 'data'\n",
    "image_exts = ['jpeg', 'jpg', 'bmp', 'png']"
   ]
  },
  {
   "cell_type": "code",
   "execution_count": 14,
   "id": "dab106f0",
   "metadata": {},
   "outputs": [],
   "source": [
    "# To enter inside the happy folder and get every image\n",
    "# os.listdir(os.path.join(data_dir, 'happy'))"
   ]
  },
  {
   "cell_type": "code",
   "execution_count": 17,
   "id": "c5fb93fb",
   "metadata": {},
   "outputs": [],
   "source": [
    "# To filter the images:\n",
    "# 1. First delete all the imgages which of are of size <10KB\n",
    "# 2. Delete all svg files"
   ]
  },
  {
   "cell_type": "code",
   "execution_count": 27,
   "id": "ca26d6f7",
   "metadata": {},
   "outputs": [
    {
     "name": "stdout",
     "output_type": "stream",
     "text": [
      "Image not in ext list data\\happy\\happiness_thumbnail.jpg\n",
      "Image not in ext list data\\happy\\Happy20People.jpg\n",
      "Image not in ext list data\\sad\\39843138-sad-man.jpg\n",
      "Image not in ext list data\\sad\\50740738-sad-people-s-portraits.jpg\n",
      "Image not in ext list data\\sad\\78795015.jpg\n",
      "Image not in ext list data\\sad\\crying-sad.gif\n",
      "Image not in ext list data\\sad\\depositphotos_11207956-stock-photo-thoughtful-man-in-the-living.jpg\n",
      "Image not in ext list data\\sad\\depositphotos_86851530-stock-photo-close-up-of-african-young.jpg\n",
      "Image not in ext list data\\sad\\strated-depressed-man-sitting-on-plastic-stool-3d-white-people-man-character.jpg\n",
      "Image not in ext list data\\sad\\very-sad-man-sitting-alone-on-white-background-depressed-young-man-sitting-businessman-vector.jpg\n"
     ]
    }
   ],
   "source": [
    "# Removing dodgy images:\n",
    "for image_class in os.listdir(data_dir):\n",
    "    for image in os.listdir(os.path.join(data_dir, image_class)):\n",
    "        image_path = os.path.join(data_dir, image_class, image)\n",
    "        try:\n",
    "            img = cv.imread(image_path) # Checks if we can load the image into opencv\n",
    "            tip = imghdr.what(image_path)# Gets the extensions of image, and below we remove all who are not in image_exts\n",
    "            if tip not in image_exts:\n",
    "                print('Image not in ext list {}'.format(image_path))\n",
    "                os.remove(image_path)\n",
    "        except Exception as e:\n",
    "            print('Issue with image{}'.format(image_path))"
   ]
  },
  {
   "cell_type": "code",
   "execution_count": null,
   "id": "b301f2bd",
   "metadata": {},
   "outputs": [],
   "source": []
  }
 ],
 "metadata": {
  "kernelspec": {
   "display_name": "Python 3 (ipykernel)",
   "language": "python",
   "name": "python3"
  },
  "language_info": {
   "codemirror_mode": {
    "name": "ipython",
    "version": 3
   },
   "file_extension": ".py",
   "mimetype": "text/x-python",
   "name": "python",
   "nbconvert_exporter": "python",
   "pygments_lexer": "ipython3",
   "version": "3.11.3"
  }
 },
 "nbformat": 4,
 "nbformat_minor": 5
}
